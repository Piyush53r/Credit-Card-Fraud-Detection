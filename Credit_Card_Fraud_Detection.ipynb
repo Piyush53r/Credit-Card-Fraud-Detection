{
  "cells": [
    {
      "cell_type": "markdown",
      "metadata": {
        "id": "view-in-github",
        "colab_type": "text"
      },
      "source": [
        "<a href=\"https://colab.research.google.com/github/Piyush53r/Credit-Card-Fraud-Detection/blob/main/Credit_Card_Fraud_Detection.ipynb\" target=\"_parent\"><img src=\"https://colab.research.google.com/assets/colab-badge.svg\" alt=\"Open In Colab\"/></a>"
      ]
    },
    {
      "cell_type": "code",
      "execution_count": 1,
      "metadata": {
        "id": "OhZw_RJPJLSz",
        "colab": {
          "base_uri": "https://localhost:8080/"
        },
        "outputId": "f49ec0cc-f02b-47fa-c332-17eb29f37349"
      },
      "outputs": [
        {
          "output_type": "stream",
          "name": "stderr",
          "text": [
            "WARNING:root:pydrive is deprecated and no longer maintained. We recommend that you migrate your projects to pydrive2, the maintained fork of pydrive\n"
          ]
        }
      ],
      "source": [
        "!pip install -U -q PyDrive\n",
        "from pydrive.auth import GoogleAuth\n",
        "from pydrive.drive import GoogleDrive\n",
        "from google.colab import auth\n",
        "from oauth2client.client import GoogleCredentials\n"
      ]
    },
    {
      "cell_type": "code",
      "execution_count": 2,
      "metadata": {
        "id": "ub-sIA-1Jjo2"
      },
      "outputs": [],
      "source": [
        "auth.authenticate_user()\n",
        "gauth = GoogleAuth()\n",
        "gauth.credentials = GoogleCredentials.get_application_default()\n",
        "drive = GoogleDrive(gauth)"
      ]
    },
    {
      "cell_type": "code",
      "execution_count": 3,
      "metadata": {
        "id": "sRInOUJAJtuL"
      },
      "outputs": [],
      "source": [
        "import pandas as pd\n",
        "df = pd.read_csv('credit_card.csv')"
      ]
    },
    {
      "cell_type": "code",
      "execution_count": 4,
      "metadata": {
        "id": "S9Mb9OSwJwgV"
      },
      "outputs": [],
      "source": [
        "# Splitting Data\n",
        "X = df.iloc[:,:-1].values\n",
        "y = df.iloc[:,-1].values\n",
        "\n",
        "# Using train_test_split\n",
        "from sklearn.model_selection import train_test_split\n",
        "X_train, X_test, y_train, y_test = train_test_split(X, y, test_size = 0.2, random_state = 1)"
      ]
    },
    {
      "cell_type": "code",
      "execution_count": 5,
      "metadata": {
        "id": "r5ilLYDJJzRI"
      },
      "outputs": [],
      "source": [
        "# Standardizing the data\n",
        "from sklearn.preprocessing import StandardScaler\n",
        "sc = StandardScaler()\n",
        "X_train = sc.fit_transform(X_train)\n",
        "X_test = sc.fit_transform(X_test)"
      ]
    },
    {
      "cell_type": "code",
      "execution_count": 6,
      "metadata": {
        "colab": {
          "base_uri": "https://localhost:8080/"
        },
        "id": "zK_M7T9cJ2HK",
        "outputId": "619930a3-1aad-4982-a36d-7e79a52a9efc"
      },
      "outputs": [
        {
          "output_type": "stream",
          "name": "stdout",
          "text": [
            "[[56865    10]\n",
            " [   39    48]]\n"
          ]
        },
        {
          "output_type": "execute_result",
          "data": {
            "text/plain": [
              "99.91397773954567"
            ]
          },
          "metadata": {},
          "execution_count": 6
        }
      ],
      "source": [
        "# Logistic Regression\n",
        "from sklearn.linear_model import LogisticRegression\n",
        "classifier = LogisticRegression(random_state = 0)\n",
        "classifier.fit(X_train, y_train)\n",
        "\n",
        "# Predicting the accuracy of the model\n",
        "\n",
        "from sklearn.metrics import confusion_matrix, accuracy_score\n",
        "y_pred = classifier.predict(X_test)\n",
        "cm = confusion_matrix(y_test, y_pred)\n",
        "print(cm)\n",
        "accuracy_score(y_test, y_pred) * 100"
      ]
    },
    {
      "cell_type": "code",
      "execution_count": 7,
      "metadata": {
        "colab": {
          "base_uri": "https://localhost:8080/"
        },
        "id": "HGiJCq8bJ5Gy",
        "outputId": "4adfcc4c-e11d-461f-e1b2-31b81ddc3bf2"
      },
      "outputs": [
        {
          "output_type": "execute_result",
          "data": {
            "text/plain": [
              "99.89291106351604"
            ]
          },
          "metadata": {},
          "execution_count": 7
        }
      ],
      "source": [
        "# Implementing Decision Tree Classifier\n",
        "from sklearn.tree import DecisionTreeClassifier\n",
        "clf = DecisionTreeClassifier()\n",
        "clf = clf.fit(X_train, y_train)\n",
        "\n",
        "# Predicting the accuracy of the model\n",
        "\n",
        "y_predict_clf = clf.predict(X_test)\n",
        "accuracy_score(y_test, y_predict_clf) * 100"
      ]
    },
    {
      "cell_type": "code",
      "execution_count": 8,
      "metadata": {
        "colab": {
          "base_uri": "https://localhost:8080/"
        },
        "id": "A7y3e0fKJ82a",
        "outputId": "3d75ad2f-4bf6-4c65-9391-cf1002e35980"
      },
      "outputs": [
        {
          "output_type": "execute_result",
          "data": {
            "text/plain": [
              "99.91222218320986"
            ]
          },
          "metadata": {},
          "execution_count": 8
        }
      ],
      "source": [
        "# Implementing Random Forest\n",
        "from sklearn.ensemble import RandomForestClassifier\n",
        "clf = RandomForestClassifier(max_depth=2, random_state=0, n_estimators=100)\n",
        "clf.fit(X, y)\n",
        "\n",
        "# Getting the accuracy of the model\n",
        "\n",
        "y_randomforest_predict = clf.predict(X_test)\n",
        "accuracy_score(y_test, y_randomforest_predict) * 100"
      ]
    },
    {
      "cell_type": "code",
      "execution_count": 9,
      "metadata": {
        "colab": {
          "base_uri": "https://localhost:8080/"
        },
        "id": "hBYq0XuoKADR",
        "outputId": "e0398646-63dc-4899-a22c-d1fee95ce8ca"
      },
      "outputs": [
        {
          "output_type": "stream",
          "name": "stdout",
          "text": [
            "[[70617   474]\n",
            " [   38    73]]\n"
          ]
        },
        {
          "output_type": "execute_result",
          "data": {
            "text/plain": [
              "99.28091907530687"
            ]
          },
          "metadata": {},
          "execution_count": 9
        }
      ],
      "source": [
        "# Implementing Naive Base Classfier\n",
        "X_train, X_test, y_train, y_test = train_test_split(X, y, test_size = 0.25, random_state = 1)\n",
        "from sklearn.naive_bayes import GaussianNB\n",
        "GNFclf = GaussianNB()\n",
        "GNFclf.fit(X, y)\n",
        "y_GNFclf_predict = GNFclf.predict(X_test)\n",
        "\n",
        "# Getting the accuracy of the model\n",
        "\n",
        "print(confusion_matrix(y_test, y_GNFclf_predict))\n",
        "accuracy_score(y_test, y_GNFclf_predict) * 100"
      ]
    },
    {
      "cell_type": "code",
      "execution_count": 10,
      "metadata": {
        "colab": {
          "base_uri": "https://localhost:8080/"
        },
        "id": "crDJ2DnqKD8m",
        "outputId": "ead0a71f-dba5-402d-816b-75b8d9e571ae"
      },
      "outputs": [
        {
          "output_type": "stream",
          "name": "stdout",
          "text": [
            "Accuracy: 99.87500351113732\n"
          ]
        }
      ],
      "source": [
        "# Implementing Support Vector Machine\n",
        "# 1. linear\n",
        "from sklearn import svm\n",
        "clf = svm.SVC(kernel='linear')\n",
        "clf.fit(X_train, y_train)\n",
        "y_pred = clf.predict(X_test)\n",
        "\n",
        "# Getting the accuracy of the model\n",
        "\n",
        "print(\"Accuracy:\",accuracy_score(y_test, y_pred) * 100)"
      ]
    },
    {
      "cell_type": "code",
      "execution_count": 11,
      "metadata": {
        "colab": {
          "base_uri": "https://localhost:8080/"
        },
        "id": "rrkp0u4eKG0o",
        "outputId": "cc4d8170-f143-403c-fd2a-777706423b77"
      },
      "outputs": [
        {
          "output_type": "stream",
          "name": "stdout",
          "text": [
            "Accuracy: 99.84410550265443\n"
          ]
        }
      ],
      "source": [
        "# Implementing Support Vector Machine\n",
        "# 2. poly\n",
        "from sklearn import svm\n",
        "clf = svm.SVC(kernel='poly')\n",
        "clf.fit(X_train, y_train)\n",
        "y_pred = clf.predict(X_test)\n",
        "\n",
        "# Getting the accuracy of the model\n",
        "\n",
        "print(\"Accuracy:\",accuracy_score(y_test, y_pred) * 100)"
      ]
    },
    {
      "cell_type": "code",
      "execution_count": 12,
      "metadata": {
        "colab": {
          "base_uri": "https://localhost:8080/"
        },
        "id": "BA7E_7qjKJhN",
        "outputId": "475d1001-3b08-44b6-c4bf-f91d1a4d7db7"
      },
      "outputs": [
        {
          "output_type": "stream",
          "name": "stdout",
          "text": [
            "Accuracy: 99.84410550265443\n"
          ]
        }
      ],
      "source": [
        "# Implementing Support Vector Machine\n",
        "# 3. rbf\n",
        "from sklearn import svm\n",
        "clf = svm.SVC(kernel='rbf')\n",
        "clf.fit(X_train, y_train)\n",
        "y_pred = clf.predict(X_test)\n",
        "\n",
        "# Getting the accuracy of the model\n",
        "\n",
        "print(\"Accuracy:\",accuracy_score(y_test, y_pred) * 100)"
      ]
    },
    {
      "cell_type": "code",
      "execution_count": 13,
      "metadata": {
        "colab": {
          "base_uri": "https://localhost:8080/"
        },
        "id": "F9Eww-A5KMOt",
        "outputId": "46207065-7ffd-458e-b6fa-068151f21a80"
      },
      "outputs": [
        {
          "output_type": "stream",
          "name": "stdout",
          "text": [
            "Accuracy: 99.84410550265443\n"
          ]
        }
      ],
      "source": [
        "# Implementing Support Vector Machine\n",
        "# 4. sigmoid\n",
        "from sklearn import svm\n",
        "clf = svm.SVC(kernel='sigmoid')\n",
        "clf.fit(X_train, y_train)\n",
        "y_pred = clf.predict(X_test)\n",
        "\n",
        "# Getting the accuracy of the model\n",
        "\n",
        "print(\"Accuracy:\",accuracy_score(y_test, y_pred) * 100)"
      ]
    },
    {
      "cell_type": "code",
      "execution_count": 14,
      "metadata": {
        "colab": {
          "base_uri": "https://localhost:8080/"
        },
        "id": "JMvCy58uKOxh",
        "outputId": "b925cd86-eea4-4c3e-9954-4c733d200f68"
      },
      "outputs": [
        {
          "output_type": "execute_result",
          "data": {
            "text/plain": [
              "99.84831886744755"
            ]
          },
          "metadata": {},
          "execution_count": 14
        }
      ],
      "source": [
        "# K-Nearest Neighbour\n",
        "from sklearn.neighbors import KNeighborsClassifier\n",
        "neigh = KNeighborsClassifier(n_neighbors=3)\n",
        "neigh.fit(X_train, y_train)\n",
        "y_neight_predict = neigh.predict(X_test)\n",
        "\n",
        "# Getting the accuracy of the model\n",
        "\n",
        "accuracy_score(y_test, y_neight_predict) * 100"
      ]
    },
    {
      "cell_type": "code",
      "execution_count": 15,
      "metadata": {
        "colab": {
          "base_uri": "https://localhost:8080/"
        },
        "id": "CbHZf7UMKRsM",
        "outputId": "af866e0e-45ac-4c55-eb43-08541da7d6a3"
      },
      "outputs": [
        {
          "output_type": "execute_result",
          "data": {
            "text/plain": [
              "99.91994606893064"
            ]
          },
          "metadata": {},
          "execution_count": 15
        }
      ],
      "source": [
        "from sklearn.ensemble import VotingClassifier\n",
        "clf1 = GaussianNB()\n",
        "clf2 = DecisionTreeClassifier()\n",
        "clf3 = LogisticRegression(max_iter=10000)\n",
        "\n",
        "eclf1 = VotingClassifier(estimators=[('Gaussian', clf1), ('DecisionTree', clf2), ('Logistic', clf3)], voting='hard')\n",
        "eclf1.fit(X_train, y_train)\n",
        "predictions = eclf1.predict(X_test)\n",
        "\n",
        "accuracy_score(y_test, predictions) * 100"
      ]
    },
    {
      "cell_type": "code",
      "execution_count": 16,
      "metadata": {
        "colab": {
          "base_uri": "https://localhost:8080/"
        },
        "id": "Gb2QJ_WFKUTU",
        "outputId": "7b221406-4ef7-4a78-f446-5173fd3b5757"
      },
      "outputs": [
        {
          "output_type": "execute_result",
          "data": {
            "text/plain": [
              "99.91713715906857"
            ]
          },
          "metadata": {},
          "execution_count": 16
        }
      ],
      "source": [
        "from sklearn.ensemble import VotingClassifier\n",
        "clf1 = GaussianNB()\n",
        "clf2 = DecisionTreeClassifier()\n",
        "clf3 = LogisticRegression(max_iter=10000)\n",
        "\n",
        "eclf1 = VotingClassifier(estimators=[('Gaussian', clf1), ('DecisionTree', clf2), ('Logistic', clf3)], voting='soft')\n",
        "eclf1.fit(X_train, y_train)\n",
        "predictions = eclf1.predict(X_test)\n",
        "\n",
        "accuracy_score(y_test, predictions) * 100"
      ]
    }
  ],
  "metadata": {
    "colab": {
      "provenance": [],
      "authorship_tag": "ABX9TyM36ULd7+eeJ1bbJrGX6iJ9",
      "include_colab_link": true
    },
    "kernelspec": {
      "display_name": "Python 3",
      "name": "python3"
    },
    "language_info": {
      "name": "python"
    }
  },
  "nbformat": 4,
  "nbformat_minor": 0
}